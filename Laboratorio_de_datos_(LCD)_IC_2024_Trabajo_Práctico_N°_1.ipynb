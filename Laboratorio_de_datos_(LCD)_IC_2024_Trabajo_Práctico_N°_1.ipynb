{
  "nbformat": 4,
  "nbformat_minor": 0,
  "metadata": {
    "colab": {
      "provenance": [],
      "include_colab_link": true
    },
    "kernelspec": {
      "name": "python3",
      "display_name": "Python 3"
    },
    "language_info": {
      "name": "python"
    }
  },
  "cells": [
    {
      "cell_type": "markdown",
      "metadata": {
        "id": "view-in-github",
        "colab_type": "text"
      },
      "source": [
        "<a href=\"https://colab.research.google.com/github/mgresnik/trabajo_practico_nro_1/blob/main/Laboratorio_de_datos_(LCD)_IC_2024_Trabajo_Pr%C3%A1ctico_N%C2%B0_1.ipynb\" target=\"_parent\"><img src=\"https://colab.research.google.com/assets/colab-badge.svg\" alt=\"Open In Colab\"/></a>"
      ]
    },
    {
      "cell_type": "markdown",
      "source": [
        "#####Universidad de Buenos Aires >> Facultad de Ciencias Exactas y Naturales >> Ciencias de Datos\n",
        "#####Laboratorio de Datos - Primer Cuatrimestre 2024\n",
        "# **Trabajo Práctico N° 1**\n",
        "##**Turno noche - Grupo 2**\n",
        "**Integrantes:**\n",
        "*   César Alejandro Momberg\n",
        "*   Matías Gabriel Resnik"
      ],
      "metadata": {
        "id": "0i-VIqfzxXSg"
      }
    },
    {
      "cell_type": "code",
      "source": [
        "from google.colab import drive\n",
        "drive.mount('/content/drive')"
      ],
      "metadata": {
        "colab": {
          "base_uri": "https://localhost:8080/"
        },
        "id": "Reat0djaAN05",
        "outputId": "5d4af96a-f96e-4b66-c07c-4d72c8a5c54c"
      },
      "execution_count": null,
      "outputs": [
        {
          "output_type": "stream",
          "name": "stdout",
          "text": [
            "Mounted at /content/drive\n"
          ]
        }
      ]
    },
    {
      "cell_type": "code",
      "execution_count": null,
      "metadata": {
        "id": "TzFOusf7v8W9"
      },
      "outputs": [],
      "source": [
        "from datetime import date\n",
        "import pandas as pd\n",
        "import numpy as np"
      ]
    },
    {
      "cell_type": "code",
      "source": [
        "# Carga de los archivos\n",
        "df_sube = pd.read_csv(\"/content/drive/MyDrive/Colab Notebooks/sube-2023.csv\")"
      ],
      "metadata": {
        "id": "BHAeeUxnX3QF"
      },
      "execution_count": null,
      "outputs": []
    },
    {
      "cell_type": "code",
      "source": [
        "df_sube.info()"
      ],
      "metadata": {
        "id": "KmHJFU6yPW9w",
        "colab": {
          "base_uri": "https://localhost:8080/"
        },
        "outputId": "a3ed5194-621f-4439-a2a8-1c8f0ef739f0"
      },
      "execution_count": null,
      "outputs": [
        {
          "output_type": "stream",
          "name": "stdout",
          "text": [
            "<class 'pandas.core.frame.DataFrame'>\n",
            "RangeIndex: 472291 entries, 0 to 472290\n",
            "Data columns (total 10 columns):\n",
            " #   Column           Non-Null Count   Dtype \n",
            "---  ------           --------------   ----- \n",
            " 0   DIA_TRANSPORTE   472291 non-null  object\n",
            " 1   NOMBRE_EMPRESA   472291 non-null  object\n",
            " 2   LINEA            472291 non-null  object\n",
            " 3   AMBA             472291 non-null  object\n",
            " 4   TIPO_TRANSPORTE  472291 non-null  object\n",
            " 5   JURISDICCION     469742 non-null  object\n",
            " 6   PROVINCIA        469720 non-null  object\n",
            " 7   MUNICIPIO        469720 non-null  object\n",
            " 8   CANTIDAD         472291 non-null  int64 \n",
            " 9   DATO_PRELIMINAR  472291 non-null  object\n",
            "dtypes: int64(1), object(9)\n",
            "memory usage: 36.0+ MB\n"
          ]
        }
      ]
    },
    {
      "cell_type": "markdown",
      "source": [
        "**Observación:** Hay columas que tienen datos NaN ¿qué hacemos? ¿eliminamos las filas? ¿las dejamos? ¿esas columnas tienen datos relevantes (JURISDICCION, PROVINCIA, MUNICIPIO)?"
      ],
      "metadata": {
        "id": "kYtSIJqoEjd-"
      }
    },
    {
      "cell_type": "markdown",
      "source": [
        "**Procesamiento de Datos**\n",
        "1. (a) Visualizar el tipo de datos de cada columna. Transformar la columna DIA_TRANSPORTE para que sea reconocida como una fecha.\n"
      ],
      "metadata": {
        "id": "XitTGUfAO0d3"
      }
    },
    {
      "cell_type": "code",
      "source": [
        "df_sube['DIA_TRANSPORTE'] = pd.to_datetime(df_sube['DIA_TRANSPORTE'], format='%Y-%m-%d')\n",
        "print(\"\\nDIA_TRANSPORTE ahora es de tipo\", df_sube['DIA_TRANSPORTE'].dtype)"
      ],
      "metadata": {
        "id": "Hf_bgipxSqN8",
        "colab": {
          "base_uri": "https://localhost:8080/"
        },
        "outputId": "f0f9b490-3443-4c19-d2bf-3a364406f98e"
      },
      "execution_count": null,
      "outputs": [
        {
          "output_type": "stream",
          "name": "stdout",
          "text": [
            "\n",
            "DIA_TRANSPORTE ahora es de tipo datetime64[ns]\n"
          ]
        }
      ]
    },
    {
      "cell_type": "markdown",
      "source": [
        "1. (b) Agregar tres columnas al DataFrame:\n",
        "\n",
        "i.   FECHA_DIA: Debe indicar el nombre del día de la semana correspondiente a\n",
        "DIA_TRANSPORTE.\n",
        "\n",
        "ii.  FECHA_ORDINAL: Debe indicar el ordinal correspondiente a DIA_TRANSPORTE (por ejemplo, a 2023-01-01 le corresponde 1, a 2023-01-02 le corresponde 2 y así sucesivamente). Debe ser un entero (int).\n",
        "\n",
        "iii. FECHA_MES: Debe indicar el mes correspondiente a DIA_TRANSPORTE.\n",
        "\n",
        "\n",
        "Sugerencia: investigar el método apply de DataFrame."
      ],
      "metadata": {
        "id": "Xbq6B-qBS9Io"
      }
    },
    {
      "cell_type": "code",
      "execution_count": null,
      "metadata": {
        "id": "Vo3-brdTOeRV"
      },
      "outputs": [],
      "source": [
        "def dia_sem(d):\n",
        "  dias = [\"Lunes\", \"Martes\", \"Miércoles\", \"Jueves\", \"Viernes\", \"Sábado\", \"Domingo\"]\n",
        "  return dias[d]\n",
        "\n",
        "df_sube['FECHA_DIA'] = df_sube['DIA_TRANSPORTE'].apply(lambda x: dia_sem(x.weekday())) #Nombre del día de la semana a partir del número de día, empezando en 0 = Lunes\n",
        "df_sube['FECHA_ORDINAL'] = df_sube['DIA_TRANSPORTE'].apply(lambda y: y.dayofyear) #dia del año\n",
        "df_sube['FECHA_MES'] = df_sube['DIA_TRANSPORTE'].apply(lambda z: z.month) #mes del año\n",
        "\n"
      ]
    },
    {
      "cell_type": "markdown",
      "source": [
        "2. Crear el DataFrame datos_amba, el cual sólo debe tener datos de AMBA y debe excluir datos\n",
        "preliminares. Además, al ejecutar datos_amba.head() debe observarse el siguiente orden y\n",
        "formato de columnas:\n",
        "![image.png](data:image/png;base64,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)"
      ],
      "metadata": {
        "id": "qzF9Liquhcoz"
      }
    },
    {
      "cell_type": "code",
      "source": [
        "#Me quedo con los datos de amba y elimino las filas con datos preliminares\n",
        "df_sube_amba = df_sube[(df_sube.AMBA == \"SI\") & (df_sube.DATO_PRELIMINAR == \"NO\")]\n",
        "\n",
        "#Tomo las columnas que necesito\n",
        "datos_amba = df_sube_amba[['DIA_TRANSPORTE','FECHA_DIA', 'FECHA_MES','FECHA_ORDINAL','JURISDICCION', 'LINEA', 'CANTIDAD', 'TIPO_TRANSPORTE']]\n",
        "\n",
        "#Cambio los nombres de las columnas\n",
        "datos_amba.columns = ['fecha', 'fecha_dia', 'fecha_mes', 'fecha_ordinal', 'jurisdiccion', 'linea', 'pasajeros', 'tipo_transporte']\n",
        "\n",
        "#Convierto la fecha del mes en string de 2 dígitos\n",
        "datos_amba.loc[:, 'fecha_mes'] = datos_amba['fecha_mes'].astype(str).str.zfill(2)\n",
        "\n",
        "#Muestro la información\n",
        "datos_amba.head()"
      ],
      "metadata": {
        "colab": {
          "base_uri": "https://localhost:8080/",
          "height": 206
        },
        "id": "e4EyyxN9htHG",
        "outputId": "8f4bb841-9281-4bac-c6e7-3c5217ab8de9"
      },
      "execution_count": null,
      "outputs": [
        {
          "output_type": "execute_result",
          "data": {
            "text/plain": [
              "       fecha fecha_dia fecha_mes  fecha_ordinal jurisdiccion            linea  \\\n",
              "0 2023-01-01   Domingo        01              1    MUNICIPAL                1   \n",
              "1 2023-01-01   Domingo        01              1    MUNICIPAL               2B   \n",
              "3 2023-01-01   Domingo        01              1   PROVINCIAL  BS_AS_LINEA_326   \n",
              "5 2023-01-01   Domingo        01              1    MUNICIPAL  BS_AS_LINEA_514   \n",
              "6 2023-01-01   Domingo        01              1    MUNICIPAL  BS_AS_LINEA_522   \n",
              "\n",
              "   pasajeros tipo_transporte  \n",
              "0         61       COLECTIVO  \n",
              "1         11       COLECTIVO  \n",
              "3        438       COLECTIVO  \n",
              "5       3067       COLECTIVO  \n",
              "6        332       COLECTIVO  "
            ],
            "text/html": [
              "\n",
              "  <div id=\"df-70381120-ea5a-446b-b98d-d72a59d972f0\" class=\"colab-df-container\">\n",
              "    <div>\n",
              "<style scoped>\n",
              "    .dataframe tbody tr th:only-of-type {\n",
              "        vertical-align: middle;\n",
              "    }\n",
              "\n",
              "    .dataframe tbody tr th {\n",
              "        vertical-align: top;\n",
              "    }\n",
              "\n",
              "    .dataframe thead th {\n",
              "        text-align: right;\n",
              "    }\n",
              "</style>\n",
              "<table border=\"1\" class=\"dataframe\">\n",
              "  <thead>\n",
              "    <tr style=\"text-align: right;\">\n",
              "      <th></th>\n",
              "      <th>fecha</th>\n",
              "      <th>fecha_dia</th>\n",
              "      <th>fecha_mes</th>\n",
              "      <th>fecha_ordinal</th>\n",
              "      <th>jurisdiccion</th>\n",
              "      <th>linea</th>\n",
              "      <th>pasajeros</th>\n",
              "      <th>tipo_transporte</th>\n",
              "    </tr>\n",
              "  </thead>\n",
              "  <tbody>\n",
              "    <tr>\n",
              "      <th>0</th>\n",
              "      <td>2023-01-01</td>\n",
              "      <td>Domingo</td>\n",
              "      <td>01</td>\n",
              "      <td>1</td>\n",
              "      <td>MUNICIPAL</td>\n",
              "      <td>1</td>\n",
              "      <td>61</td>\n",
              "      <td>COLECTIVO</td>\n",
              "    </tr>\n",
              "    <tr>\n",
              "      <th>1</th>\n",
              "      <td>2023-01-01</td>\n",
              "      <td>Domingo</td>\n",
              "      <td>01</td>\n",
              "      <td>1</td>\n",
              "      <td>MUNICIPAL</td>\n",
              "      <td>2B</td>\n",
              "      <td>11</td>\n",
              "      <td>COLECTIVO</td>\n",
              "    </tr>\n",
              "    <tr>\n",
              "      <th>3</th>\n",
              "      <td>2023-01-01</td>\n",
              "      <td>Domingo</td>\n",
              "      <td>01</td>\n",
              "      <td>1</td>\n",
              "      <td>PROVINCIAL</td>\n",
              "      <td>BS_AS_LINEA_326</td>\n",
              "      <td>438</td>\n",
              "      <td>COLECTIVO</td>\n",
              "    </tr>\n",
              "    <tr>\n",
              "      <th>5</th>\n",
              "      <td>2023-01-01</td>\n",
              "      <td>Domingo</td>\n",
              "      <td>01</td>\n",
              "      <td>1</td>\n",
              "      <td>MUNICIPAL</td>\n",
              "      <td>BS_AS_LINEA_514</td>\n",
              "      <td>3067</td>\n",
              "      <td>COLECTIVO</td>\n",
              "    </tr>\n",
              "    <tr>\n",
              "      <th>6</th>\n",
              "      <td>2023-01-01</td>\n",
              "      <td>Domingo</td>\n",
              "      <td>01</td>\n",
              "      <td>1</td>\n",
              "      <td>MUNICIPAL</td>\n",
              "      <td>BS_AS_LINEA_522</td>\n",
              "      <td>332</td>\n",
              "      <td>COLECTIVO</td>\n",
              "    </tr>\n",
              "  </tbody>\n",
              "</table>\n",
              "</div>\n",
              "    <div class=\"colab-df-buttons\">\n",
              "\n",
              "  <div class=\"colab-df-container\">\n",
              "    <button class=\"colab-df-convert\" onclick=\"convertToInteractive('df-70381120-ea5a-446b-b98d-d72a59d972f0')\"\n",
              "            title=\"Convert this dataframe to an interactive table.\"\n",
              "            style=\"display:none;\">\n",
              "\n",
              "  <svg xmlns=\"http://www.w3.org/2000/svg\" height=\"24px\" viewBox=\"0 -960 960 960\">\n",
              "    <path d=\"M120-120v-720h720v720H120Zm60-500h600v-160H180v160Zm220 220h160v-160H400v160Zm0 220h160v-160H400v160ZM180-400h160v-160H180v160Zm440 0h160v-160H620v160ZM180-180h160v-160H180v160Zm440 0h160v-160H620v160Z\"/>\n",
              "  </svg>\n",
              "    </button>\n",
              "\n",
              "  <style>\n",
              "    .colab-df-container {\n",
              "      display:flex;\n",
              "      gap: 12px;\n",
              "    }\n",
              "\n",
              "    .colab-df-convert {\n",
              "      background-color: #E8F0FE;\n",
              "      border: none;\n",
              "      border-radius: 50%;\n",
              "      cursor: pointer;\n",
              "      display: none;\n",
              "      fill: #1967D2;\n",
              "      height: 32px;\n",
              "      padding: 0 0 0 0;\n",
              "      width: 32px;\n",
              "    }\n",
              "\n",
              "    .colab-df-convert:hover {\n",
              "      background-color: #E2EBFA;\n",
              "      box-shadow: 0px 1px 2px rgba(60, 64, 67, 0.3), 0px 1px 3px 1px rgba(60, 64, 67, 0.15);\n",
              "      fill: #174EA6;\n",
              "    }\n",
              "\n",
              "    .colab-df-buttons div {\n",
              "      margin-bottom: 4px;\n",
              "    }\n",
              "\n",
              "    [theme=dark] .colab-df-convert {\n",
              "      background-color: #3B4455;\n",
              "      fill: #D2E3FC;\n",
              "    }\n",
              "\n",
              "    [theme=dark] .colab-df-convert:hover {\n",
              "      background-color: #434B5C;\n",
              "      box-shadow: 0px 1px 3px 1px rgba(0, 0, 0, 0.15);\n",
              "      filter: drop-shadow(0px 1px 2px rgba(0, 0, 0, 0.3));\n",
              "      fill: #FFFFFF;\n",
              "    }\n",
              "  </style>\n",
              "\n",
              "    <script>\n",
              "      const buttonEl =\n",
              "        document.querySelector('#df-70381120-ea5a-446b-b98d-d72a59d972f0 button.colab-df-convert');\n",
              "      buttonEl.style.display =\n",
              "        google.colab.kernel.accessAllowed ? 'block' : 'none';\n",
              "\n",
              "      async function convertToInteractive(key) {\n",
              "        const element = document.querySelector('#df-70381120-ea5a-446b-b98d-d72a59d972f0');\n",
              "        const dataTable =\n",
              "          await google.colab.kernel.invokeFunction('convertToInteractive',\n",
              "                                                    [key], {});\n",
              "        if (!dataTable) return;\n",
              "\n",
              "        const docLinkHtml = 'Like what you see? Visit the ' +\n",
              "          '<a target=\"_blank\" href=https://colab.research.google.com/notebooks/data_table.ipynb>data table notebook</a>'\n",
              "          + ' to learn more about interactive tables.';\n",
              "        element.innerHTML = '';\n",
              "        dataTable['output_type'] = 'display_data';\n",
              "        await google.colab.output.renderOutput(dataTable, element);\n",
              "        const docLink = document.createElement('div');\n",
              "        docLink.innerHTML = docLinkHtml;\n",
              "        element.appendChild(docLink);\n",
              "      }\n",
              "    </script>\n",
              "  </div>\n",
              "\n",
              "\n",
              "<div id=\"df-d25e6534-fc07-40ea-92a3-00a24f6efdc3\">\n",
              "  <button class=\"colab-df-quickchart\" onclick=\"quickchart('df-d25e6534-fc07-40ea-92a3-00a24f6efdc3')\"\n",
              "            title=\"Suggest charts\"\n",
              "            style=\"display:none;\">\n",
              "\n",
              "<svg xmlns=\"http://www.w3.org/2000/svg\" height=\"24px\"viewBox=\"0 0 24 24\"\n",
              "     width=\"24px\">\n",
              "    <g>\n",
              "        <path d=\"M19 3H5c-1.1 0-2 .9-2 2v14c0 1.1.9 2 2 2h14c1.1 0 2-.9 2-2V5c0-1.1-.9-2-2-2zM9 17H7v-7h2v7zm4 0h-2V7h2v10zm4 0h-2v-4h2v4z\"/>\n",
              "    </g>\n",
              "</svg>\n",
              "  </button>\n",
              "\n",
              "<style>\n",
              "  .colab-df-quickchart {\n",
              "      --bg-color: #E8F0FE;\n",
              "      --fill-color: #1967D2;\n",
              "      --hover-bg-color: #E2EBFA;\n",
              "      --hover-fill-color: #174EA6;\n",
              "      --disabled-fill-color: #AAA;\n",
              "      --disabled-bg-color: #DDD;\n",
              "  }\n",
              "\n",
              "  [theme=dark] .colab-df-quickchart {\n",
              "      --bg-color: #3B4455;\n",
              "      --fill-color: #D2E3FC;\n",
              "      --hover-bg-color: #434B5C;\n",
              "      --hover-fill-color: #FFFFFF;\n",
              "      --disabled-bg-color: #3B4455;\n",
              "      --disabled-fill-color: #666;\n",
              "  }\n",
              "\n",
              "  .colab-df-quickchart {\n",
              "    background-color: var(--bg-color);\n",
              "    border: none;\n",
              "    border-radius: 50%;\n",
              "    cursor: pointer;\n",
              "    display: none;\n",
              "    fill: var(--fill-color);\n",
              "    height: 32px;\n",
              "    padding: 0;\n",
              "    width: 32px;\n",
              "  }\n",
              "\n",
              "  .colab-df-quickchart:hover {\n",
              "    background-color: var(--hover-bg-color);\n",
              "    box-shadow: 0 1px 2px rgba(60, 64, 67, 0.3), 0 1px 3px 1px rgba(60, 64, 67, 0.15);\n",
              "    fill: var(--button-hover-fill-color);\n",
              "  }\n",
              "\n",
              "  .colab-df-quickchart-complete:disabled,\n",
              "  .colab-df-quickchart-complete:disabled:hover {\n",
              "    background-color: var(--disabled-bg-color);\n",
              "    fill: var(--disabled-fill-color);\n",
              "    box-shadow: none;\n",
              "  }\n",
              "\n",
              "  .colab-df-spinner {\n",
              "    border: 2px solid var(--fill-color);\n",
              "    border-color: transparent;\n",
              "    border-bottom-color: var(--fill-color);\n",
              "    animation:\n",
              "      spin 1s steps(1) infinite;\n",
              "  }\n",
              "\n",
              "  @keyframes spin {\n",
              "    0% {\n",
              "      border-color: transparent;\n",
              "      border-bottom-color: var(--fill-color);\n",
              "      border-left-color: var(--fill-color);\n",
              "    }\n",
              "    20% {\n",
              "      border-color: transparent;\n",
              "      border-left-color: var(--fill-color);\n",
              "      border-top-color: var(--fill-color);\n",
              "    }\n",
              "    30% {\n",
              "      border-color: transparent;\n",
              "      border-left-color: var(--fill-color);\n",
              "      border-top-color: var(--fill-color);\n",
              "      border-right-color: var(--fill-color);\n",
              "    }\n",
              "    40% {\n",
              "      border-color: transparent;\n",
              "      border-right-color: var(--fill-color);\n",
              "      border-top-color: var(--fill-color);\n",
              "    }\n",
              "    60% {\n",
              "      border-color: transparent;\n",
              "      border-right-color: var(--fill-color);\n",
              "    }\n",
              "    80% {\n",
              "      border-color: transparent;\n",
              "      border-right-color: var(--fill-color);\n",
              "      border-bottom-color: var(--fill-color);\n",
              "    }\n",
              "    90% {\n",
              "      border-color: transparent;\n",
              "      border-bottom-color: var(--fill-color);\n",
              "    }\n",
              "  }\n",
              "</style>\n",
              "\n",
              "  <script>\n",
              "    async function quickchart(key) {\n",
              "      const quickchartButtonEl =\n",
              "        document.querySelector('#' + key + ' button');\n",
              "      quickchartButtonEl.disabled = true;  // To prevent multiple clicks.\n",
              "      quickchartButtonEl.classList.add('colab-df-spinner');\n",
              "      try {\n",
              "        const charts = await google.colab.kernel.invokeFunction(\n",
              "            'suggestCharts', [key], {});\n",
              "      } catch (error) {\n",
              "        console.error('Error during call to suggestCharts:', error);\n",
              "      }\n",
              "      quickchartButtonEl.classList.remove('colab-df-spinner');\n",
              "      quickchartButtonEl.classList.add('colab-df-quickchart-complete');\n",
              "    }\n",
              "    (() => {\n",
              "      let quickchartButtonEl =\n",
              "        document.querySelector('#df-d25e6534-fc07-40ea-92a3-00a24f6efdc3 button');\n",
              "      quickchartButtonEl.style.display =\n",
              "        google.colab.kernel.accessAllowed ? 'block' : 'none';\n",
              "    })();\n",
              "  </script>\n",
              "</div>\n",
              "\n",
              "    </div>\n",
              "  </div>\n"
            ],
            "application/vnd.google.colaboratory.intrinsic+json": {
              "type": "dataframe",
              "variable_name": "datos_amba"
            }
          },
          "metadata": {},
          "execution_count": 7
        }
      ]
    },
    {
      "cell_type": "markdown",
      "source": [
        "3. Utilizando datos_amba, identificar:\n",
        "\n",
        "(a) la proporción de la cantidad total anual de pasajeros que le corresponde a cada medio de transporte\n",
        "\n",
        "(b) la tupla (mes, línea de subte) donde viajó la mayor cantidad de pasajeros\n",
        "\n",
        "(c) el día hábil con menor desvío estándar en cantidad de pasajeros"
      ],
      "metadata": {
        "id": "55NoFMqGdNuN"
      }
    },
    {
      "cell_type": "code",
      "source": [
        "#verifico rango de fecha en la base\n",
        "print(\"Rango de fechas en datos_base: {} a {}\".format(datos_amba.fecha.min().strftime(\"%Y-%m\"),datos_amba.fecha.max().strftime(\"%Y-%m\")))"
      ],
      "metadata": {
        "colab": {
          "base_uri": "https://localhost:8080/"
        },
        "id": "FQPjpukldEQj",
        "outputId": "0c80b756-c184-4faa-b201-227062de8971"
      },
      "execution_count": null,
      "outputs": [
        {
          "output_type": "stream",
          "name": "stdout",
          "text": [
            "Rango de fechas en datos_base: 2023-01 a 2023-12\n"
          ]
        }
      ]
    },
    {
      "cell_type": "code",
      "source": [
        "#al existir sólo un año, la proporción pedida es\n",
        "total_pasajeros = datos_amba.pasajeros.sum()\n",
        "proporcion_transporte = datos_amba.groupby('tipo_transporte')['pasajeros'].sum() / total_pasajeros * 100\n",
        "\n",
        "#mostrando los datos, a 2 decimales, redondeando\n",
        "for tipo_transporte, porcentaje in proporcion_transporte.items():\n",
        "    porcentaje_redondeado = round(porcentaje, 3)\n",
        "    print(\"{}: {:.2f}%\".format(tipo_transporte, porcentaje_redondeado))\n"
      ],
      "metadata": {
        "colab": {
          "base_uri": "https://localhost:8080/"
        },
        "id": "LZyd3ALZeDxl",
        "outputId": "aff0f18b-82a7-48f1-bd90-cae90fa0f9e8"
      },
      "execution_count": null,
      "outputs": [
        {
          "output_type": "stream",
          "name": "stdout",
          "text": [
            "COLECTIVO: 83.76%\n",
            "SUBTE: 6.81%\n",
            "TREN: 9.43%\n"
          ]
        }
      ]
    },
    {
      "cell_type": "code",
      "source": [
        "\n",
        "#Filtro por medio de transporte Subte\n",
        "datos_amba_subte = datos_amba[datos_amba.tipo_transporte == \"SUBTE\"]\n",
        "\n",
        "#Agrupo por fecha_es y línea, sumando los pasajeros\n",
        "agrupado_1 = datos_amba_subte.groupby([\"fecha_mes\",\"linea\"])['pasajeros'].sum()\n",
        "\n",
        "# idmax() devuelve el índice de la agrupación, para el valor máximo, en este caso mes '08', línea B\n",
        "id_max_pasajeros = agrupado_1.idxmax()\n",
        "id_max_pasajeros"
      ],
      "metadata": {
        "colab": {
          "base_uri": "https://localhost:8080/"
        },
        "id": "UseoBwuBn8Tf",
        "outputId": "7923215d-c03e-4ebc-9671-a4a9f7589c6d"
      },
      "execution_count": null,
      "outputs": [
        {
          "output_type": "execute_result",
          "data": {
            "text/plain": [
              "('08', 'LINEA_B')"
            ]
          },
          "metadata": {},
          "execution_count": 10
        }
      ]
    },
    {
      "cell_type": "code",
      "source": [
        "#Filtro por día hábil\n",
        "datos_amba_habil = datos_amba[datos_amba.fecha_dia.isin([\"Lunes\", \"Martes\", \"Miércoles\", \"Jueves\", \"Viernes\"])]\n",
        "\n",
        "#Agrupo por día y calculo el desvío estandar\n",
        "agrupado_2 = datos_amba_habil.groupby('fecha_dia')['pasajeros'].std()\n",
        "\n",
        "# idmin() devuelve el índice de la agrupación, para el valor mínimo, en este caso dia lunes\n",
        "id_min_std_pasajeros = agrupado_2.idxmin()\n",
        "id_min_std_pasajeros"
      ],
      "metadata": {
        "colab": {
          "base_uri": "https://localhost:8080/",
          "height": 35
        },
        "id": "jBNYXUvDn_GW",
        "outputId": "24660df3-0d0b-4ddf-b0bf-471eca993b39"
      },
      "execution_count": null,
      "outputs": [
        {
          "output_type": "execute_result",
          "data": {
            "text/plain": [
              "'Lunes'"
            ],
            "application/vnd.google.colaboratory.intrinsic+json": {
              "type": "string"
            }
          },
          "metadata": {},
          "execution_count": 11
        }
      ]
    }
  ]
}